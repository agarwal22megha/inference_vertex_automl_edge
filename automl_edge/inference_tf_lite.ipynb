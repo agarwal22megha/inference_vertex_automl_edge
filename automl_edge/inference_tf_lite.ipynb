{
 "cells": [
  {
   "cell_type": "markdown",
   "id": "ffe2557c-30b8-4386-99ed-46eaff9193a0",
   "metadata": {},
   "source": [
    "### Leverage Endpoint"
   ]
  },
  {
   "cell_type": "code",
   "execution_count": null,
   "id": "a19063cb-74d9-4e0f-93dc-8d4372506f57",
   "metadata": {
    "collapsed": true,
    "jupyter": {
     "outputs_hidden": true
    },
    "tags": []
   },
   "outputs": [],
   "source": [
    "import numpy as np\n",
    "import tensorflow as tf\n",
    "import os\n",
    "import random\n"
   ]
  },
  {
   "cell_type": "code",
   "execution_count": null,
   "id": "2fc99071-082c-4758-ad75-7c58382c9c61",
   "metadata": {
    "collapsed": true,
    "jupyter": {
     "outputs_hidden": true
    },
    "tags": []
   },
   "outputs": [],
   "source": [
    "with tf.io.gfile.GFile(\"windshield.jpeg\", \"rb\") as f:\n",
    "    content = f.read()\n",
    "    \n",
    "test_image = tf.io.decode_jpeg(content)\n",
    "print(\"test image shape\", test_image.shape)\n",
    "\n",
    "test_image = tf.image.resize(test_image, (224, 224))\n",
    "print(\"test image shape\", test_image.shape, test_image.dtype)\n",
    "\n",
    "test_image = tf.cast(test_image, dtype=tf.uint8).numpy()\n",
    "     "
   ]
  },
  {
   "cell_type": "code",
   "execution_count": 6,
   "id": "e75980d5-94e2-4091-b3ba-a325013ea713",
   "metadata": {},
   "outputs": [],
   "source": [
    "interpreter = tf.lite.Interpreter(model_path=\"models/tflite/model.tflite\")\n",
    "interpreter.allocate_tensors()\n",
    "\n",
    "input_details = interpreter.get_input_details()\n",
    "output_details = interpreter.get_output_details()\n",
    "input_shape = input_details[0][\"shape\"]"
   ]
  },
  {
   "cell_type": "code",
   "execution_count": 7,
   "id": "9b771ae4-397a-4a66-a72e-ce1cd77fb8ce",
   "metadata": {},
   "outputs": [
    {
     "name": "stdout",
     "output_type": "stream",
     "text": [
      "2\n"
     ]
    }
   ],
   "source": [
    "data = np.expand_dims(test_image, axis=0)\n",
    "interpreter.set_tensor(input_details[0][\"index\"], data)\n",
    "interpreter.invoke()\n",
    "\n",
    "softmax = interpreter.get_tensor(output_details[0][\"index\"])\n",
    "\n",
    "label = np.argmax(softmax)\n",
    "\n",
    "print(label) "
   ]
  },
  {
   "cell_type": "markdown",
   "id": "8f14cf12-6356-4bce-87f6-73e913585869",
   "metadata": {},
   "source": [
    "### Leverage model deployed to Vertex Endpoint"
   ]
  },
  {
   "cell_type": "code",
   "execution_count": 8,
   "id": "f9dae948-7457-41cd-88db-a2f0db758ac8",
   "metadata": {},
   "outputs": [],
   "source": [
    "from google.cloud import aiplatform"
   ]
  },
  {
   "cell_type": "code",
   "execution_count": 9,
   "id": "0edd9b62-770d-4120-af3f-d67faab5fa20",
   "metadata": {},
   "outputs": [],
   "source": [
    "import base64\n",
    "\n",
    "from google.cloud import aiplatform\n",
    "from google.cloud.aiplatform.gapic.schema import predict\n",
    "\n",
    "\n",
    "def predict_image_classification_sample(\n",
    "    project: str,\n",
    "    endpoint_id: str,\n",
    "    filename: str,\n",
    "    location: str = \"europe-west4\", #\"us-central1\",\n",
    "    api_endpoint: str = \"europe-west4-aiplatform.googleapis.com\", #\"us-central1-aiplatform.googleapis.com\",\n",
    "):\n",
    "    # The AI Platform services require regional API endpoints.\n",
    "    client_options = {\"api_endpoint\": api_endpoint}\n",
    "    # Initialize client that will be used to create and send requests.\n",
    "    # This client only needs to be created once, and can be reused for multiple requests.\n",
    "    client = aiplatform.gapic.PredictionServiceClient(client_options=client_options)\n",
    "    with open(filename, \"rb\") as f:\n",
    "        file_content = f.read()\n",
    "\n",
    "    # The format of each instance should conform to the deployed model's prediction input schema.\n",
    "    encoded_content = base64.b64encode(file_content).decode(\"utf-8\")\n",
    "    instance = predict.instance.ImageClassificationPredictionInstance(\n",
    "        content=encoded_content,\n",
    "    ).to_value()\n",
    "    instances = [instance]\n",
    "    # See gs://google-cloud-aiplatform/schema/predict/params/image_classification_1.0.0.yaml for the format of the parameters.\n",
    "    parameters = predict.params.ImageClassificationPredictionParams(\n",
    "        confidence_threshold=0.5,\n",
    "        max_predictions=5,\n",
    "    ).to_value()\n",
    "    endpoint = client.endpoint_path(\n",
    "        project=project, location=location, endpoint=endpoint_id\n",
    "    )\n",
    "    response = client.predict(\n",
    "        endpoint=endpoint, instances=instances, parameters=parameters\n",
    "    )\n",
    "    print(\"response\")\n",
    "    print(\" deployed_model_id:\", response.deployed_model_id)\n",
    "    # See gs://google-cloud-aiplatform/schema/predict/prediction/image_classification_1.0.0.yaml for the format of the predictions.\n",
    "    predictions = response.predictions\n",
    "    for prediction in predictions:\n",
    "        print(\" prediction:\", dict(prediction))"
   ]
  },
  {
   "cell_type": "code",
   "execution_count": null,
   "id": "97613542-c9c7-4326-a389-6ccf37b3e446",
   "metadata": {},
   "outputs": [],
   "source": [
    "predict_image_classification_sample(\n",
    "    project=\"XXXX\",\n",
    "    endpoint_id=\"XXXXX\",\n",
    "    location=\"europe-west4\",\n",
    "    filename=\"windshield.jpeg\"\n",
    ")"
   ]
  },
  {
   "cell_type": "code",
   "execution_count": null,
   "id": "f87baddb",
   "metadata": {},
   "outputs": [],
   "source": [
    "# Above cell would result in following prediction response:\n",
    "# response\n",
    "\n",
    "# deployed_model_id: ########\n",
    "# prediction: {'displayNames': ['windshield'], 'ids': ['2391065055970983936'], 'confidences': [0.914215267]}"
   ]
  },
  {
   "cell_type": "code",
   "execution_count": null,
   "id": "5888d78a",
   "metadata": {},
   "outputs": [],
   "source": []
  }
 ],
 "metadata": {
  "environment": {
   "kernel": "conda-env-tensorflow-tensorflow",
   "name": "workbench-notebooks.m110",
   "type": "gcloud",
   "uri": "gcr.io/deeplearning-platform-release/workbench-notebooks:m110"
  },
  "kernelspec": {
   "display_name": "TensorFlow 2-11",
   "language": "python",
   "name": "conda-env-tensorflow-tensorflow"
  },
  "language_info": {
   "codemirror_mode": {
    "name": "ipython",
    "version": 3
   },
   "file_extension": ".py",
   "mimetype": "text/x-python",
   "name": "python",
   "nbconvert_exporter": "python",
   "pygments_lexer": "ipython3",
   "version": "3.10.12"
  }
 },
 "nbformat": 4,
 "nbformat_minor": 5
}
